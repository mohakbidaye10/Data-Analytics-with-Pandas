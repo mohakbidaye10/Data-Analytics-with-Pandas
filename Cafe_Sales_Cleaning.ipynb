{
 "cells": [
  {
   "cell_type": "code",
   "execution_count": 2,
   "id": "90355057-9d66-4150-b9df-875bc132568d",
   "metadata": {},
   "outputs": [],
   "source": [
    "import pandas as pd\n",
    "import numpy as np"
   ]
  },
  {
   "cell_type": "code",
   "execution_count": 3,
   "id": "3460884c-c91f-4547-a25c-2560756ee5eb",
   "metadata": {},
   "outputs": [],
   "source": [
    "cafe_sales = pd.read_csv(r\"C:\\Users\\DELL\\Downloads\\archive\\dirty_cafe_sales.csv\")"
   ]
  },
  {
   "cell_type": "code",
   "execution_count": 4,
   "id": "86590231-5a27-4ef7-b8f8-376076db7f61",
   "metadata": {},
   "outputs": [
    {
     "data": {
      "text/html": [
       "<div>\n",
       "<style scoped>\n",
       "    .dataframe tbody tr th:only-of-type {\n",
       "        vertical-align: middle;\n",
       "    }\n",
       "\n",
       "    .dataframe tbody tr th {\n",
       "        vertical-align: top;\n",
       "    }\n",
       "\n",
       "    .dataframe thead th {\n",
       "        text-align: right;\n",
       "    }\n",
       "</style>\n",
       "<table border=\"1\" class=\"dataframe\">\n",
       "  <thead>\n",
       "    <tr style=\"text-align: right;\">\n",
       "      <th></th>\n",
       "      <th>Transaction ID</th>\n",
       "      <th>Item</th>\n",
       "      <th>Quantity</th>\n",
       "      <th>Price Per Unit</th>\n",
       "      <th>Total Spent</th>\n",
       "      <th>Payment Method</th>\n",
       "      <th>Location</th>\n",
       "      <th>Transaction Date</th>\n",
       "    </tr>\n",
       "  </thead>\n",
       "  <tbody>\n",
       "    <tr>\n",
       "      <th>0</th>\n",
       "      <td>TXN_1961373</td>\n",
       "      <td>Coffee</td>\n",
       "      <td>2</td>\n",
       "      <td>2.0</td>\n",
       "      <td>4.0</td>\n",
       "      <td>Credit Card</td>\n",
       "      <td>Takeaway</td>\n",
       "      <td>2023-09-08</td>\n",
       "    </tr>\n",
       "    <tr>\n",
       "      <th>1</th>\n",
       "      <td>TXN_4977031</td>\n",
       "      <td>Cake</td>\n",
       "      <td>4</td>\n",
       "      <td>3.0</td>\n",
       "      <td>12.0</td>\n",
       "      <td>Cash</td>\n",
       "      <td>In-store</td>\n",
       "      <td>2023-05-16</td>\n",
       "    </tr>\n",
       "    <tr>\n",
       "      <th>2</th>\n",
       "      <td>TXN_4271903</td>\n",
       "      <td>Cookie</td>\n",
       "      <td>4</td>\n",
       "      <td>1.0</td>\n",
       "      <td>ERROR</td>\n",
       "      <td>Credit Card</td>\n",
       "      <td>In-store</td>\n",
       "      <td>2023-07-19</td>\n",
       "    </tr>\n",
       "    <tr>\n",
       "      <th>3</th>\n",
       "      <td>TXN_7034554</td>\n",
       "      <td>Salad</td>\n",
       "      <td>2</td>\n",
       "      <td>5.0</td>\n",
       "      <td>10.0</td>\n",
       "      <td>UNKNOWN</td>\n",
       "      <td>UNKNOWN</td>\n",
       "      <td>2023-04-27</td>\n",
       "    </tr>\n",
       "    <tr>\n",
       "      <th>4</th>\n",
       "      <td>TXN_3160411</td>\n",
       "      <td>Coffee</td>\n",
       "      <td>2</td>\n",
       "      <td>2.0</td>\n",
       "      <td>4.0</td>\n",
       "      <td>Digital Wallet</td>\n",
       "      <td>In-store</td>\n",
       "      <td>2023-06-11</td>\n",
       "    </tr>\n",
       "    <tr>\n",
       "      <th>...</th>\n",
       "      <td>...</td>\n",
       "      <td>...</td>\n",
       "      <td>...</td>\n",
       "      <td>...</td>\n",
       "      <td>...</td>\n",
       "      <td>...</td>\n",
       "      <td>...</td>\n",
       "      <td>...</td>\n",
       "    </tr>\n",
       "    <tr>\n",
       "      <th>9995</th>\n",
       "      <td>TXN_7672686</td>\n",
       "      <td>Coffee</td>\n",
       "      <td>2</td>\n",
       "      <td>2.0</td>\n",
       "      <td>4.0</td>\n",
       "      <td>NaN</td>\n",
       "      <td>UNKNOWN</td>\n",
       "      <td>2023-08-30</td>\n",
       "    </tr>\n",
       "    <tr>\n",
       "      <th>9996</th>\n",
       "      <td>TXN_9659401</td>\n",
       "      <td>NaN</td>\n",
       "      <td>3</td>\n",
       "      <td>NaN</td>\n",
       "      <td>3.0</td>\n",
       "      <td>Digital Wallet</td>\n",
       "      <td>NaN</td>\n",
       "      <td>2023-06-02</td>\n",
       "    </tr>\n",
       "    <tr>\n",
       "      <th>9997</th>\n",
       "      <td>TXN_5255387</td>\n",
       "      <td>Coffee</td>\n",
       "      <td>4</td>\n",
       "      <td>2.0</td>\n",
       "      <td>8.0</td>\n",
       "      <td>Digital Wallet</td>\n",
       "      <td>NaN</td>\n",
       "      <td>2023-03-02</td>\n",
       "    </tr>\n",
       "    <tr>\n",
       "      <th>9998</th>\n",
       "      <td>TXN_7695629</td>\n",
       "      <td>Cookie</td>\n",
       "      <td>3</td>\n",
       "      <td>NaN</td>\n",
       "      <td>3.0</td>\n",
       "      <td>Digital Wallet</td>\n",
       "      <td>NaN</td>\n",
       "      <td>2023-12-02</td>\n",
       "    </tr>\n",
       "    <tr>\n",
       "      <th>9999</th>\n",
       "      <td>TXN_6170729</td>\n",
       "      <td>Sandwich</td>\n",
       "      <td>3</td>\n",
       "      <td>4.0</td>\n",
       "      <td>12.0</td>\n",
       "      <td>Cash</td>\n",
       "      <td>In-store</td>\n",
       "      <td>2023-11-07</td>\n",
       "    </tr>\n",
       "  </tbody>\n",
       "</table>\n",
       "<p>10000 rows × 8 columns</p>\n",
       "</div>"
      ],
      "text/plain": [
       "     Transaction ID      Item Quantity Price Per Unit Total Spent  \\\n",
       "0       TXN_1961373    Coffee        2            2.0         4.0   \n",
       "1       TXN_4977031      Cake        4            3.0        12.0   \n",
       "2       TXN_4271903    Cookie        4            1.0       ERROR   \n",
       "3       TXN_7034554     Salad        2            5.0        10.0   \n",
       "4       TXN_3160411    Coffee        2            2.0         4.0   \n",
       "...             ...       ...      ...            ...         ...   \n",
       "9995    TXN_7672686    Coffee        2            2.0         4.0   \n",
       "9996    TXN_9659401       NaN        3            NaN         3.0   \n",
       "9997    TXN_5255387    Coffee        4            2.0         8.0   \n",
       "9998    TXN_7695629    Cookie        3            NaN         3.0   \n",
       "9999    TXN_6170729  Sandwich        3            4.0        12.0   \n",
       "\n",
       "      Payment Method  Location Transaction Date  \n",
       "0        Credit Card  Takeaway       2023-09-08  \n",
       "1               Cash  In-store       2023-05-16  \n",
       "2        Credit Card  In-store       2023-07-19  \n",
       "3            UNKNOWN   UNKNOWN       2023-04-27  \n",
       "4     Digital Wallet  In-store       2023-06-11  \n",
       "...              ...       ...              ...  \n",
       "9995             NaN   UNKNOWN       2023-08-30  \n",
       "9996  Digital Wallet       NaN       2023-06-02  \n",
       "9997  Digital Wallet       NaN       2023-03-02  \n",
       "9998  Digital Wallet       NaN       2023-12-02  \n",
       "9999            Cash  In-store       2023-11-07  \n",
       "\n",
       "[10000 rows x 8 columns]"
      ]
     },
     "execution_count": 4,
     "metadata": {},
     "output_type": "execute_result"
    }
   ],
   "source": [
    "cafe_sales"
   ]
  },
  {
   "cell_type": "code",
   "execution_count": 5,
   "id": "c506b2ad-5684-454a-9376-adfda778c365",
   "metadata": {},
   "outputs": [
    {
     "name": "stdout",
     "output_type": "stream",
     "text": [
      "<class 'pandas.core.frame.DataFrame'>\n",
      "RangeIndex: 10000 entries, 0 to 9999\n",
      "Data columns (total 8 columns):\n",
      " #   Column            Non-Null Count  Dtype \n",
      "---  ------            --------------  ----- \n",
      " 0   Transaction ID    10000 non-null  object\n",
      " 1   Item              9667 non-null   object\n",
      " 2   Quantity          9862 non-null   object\n",
      " 3   Price Per Unit    9821 non-null   object\n",
      " 4   Total Spent       9827 non-null   object\n",
      " 5   Payment Method    7421 non-null   object\n",
      " 6   Location          6735 non-null   object\n",
      " 7   Transaction Date  9841 non-null   object\n",
      "dtypes: object(8)\n",
      "memory usage: 625.1+ KB\n"
     ]
    }
   ],
   "source": [
    "cafe_sales.info()"
   ]
  },
  {
   "cell_type": "code",
   "execution_count": 6,
   "id": "c6cdfd3c-2e14-4a3f-a910-c99277836b3c",
   "metadata": {},
   "outputs": [],
   "source": [
    "#HANDLING DATA INCONSISTENCIES"
   ]
  },
  {
   "cell_type": "code",
   "execution_count": 7,
   "id": "8e3e6d90-a4ed-463d-98a7-56a3ab3e0a37",
   "metadata": {},
   "outputs": [],
   "source": [
    "# Datatype of the columns Quantity, Price Per Unit, Total Spent and Transaction Date need to be changed to numeric and date respectively"
   ]
  },
  {
   "cell_type": "code",
   "execution_count": 8,
   "id": "f1c4e3e4-aeb8-45fb-bada-017696c9dfb4",
   "metadata": {},
   "outputs": [
    {
     "data": {
      "text/plain": [
       "array(['2', '4', '5', '3', '1', 'ERROR', 'UNKNOWN', nan], dtype=object)"
      ]
     },
     "execution_count": 8,
     "metadata": {},
     "output_type": "execute_result"
    }
   ],
   "source": [
    "# Handling Quantity column\n",
    "# cafe_sales['Quantity'].info()\n",
    "cafe_sales['Quantity'].unique()"
   ]
  },
  {
   "cell_type": "code",
   "execution_count": 9,
   "id": "e7a2235e-610a-4508-bdbb-cf0abb21faad",
   "metadata": {},
   "outputs": [],
   "source": [
    "# replacing 'ERROR' and 'UNKNOWN' for consistency in numerical operations\n",
    "cafe_sales['Quantity'] = cafe_sales['Quantity'].replace(['ERROR', 'UNKNOWN'], np.nan)"
   ]
  },
  {
   "cell_type": "code",
   "execution_count": 10,
   "id": "b2145a37-18f8-4bab-80e8-a028d723d10b",
   "metadata": {},
   "outputs": [],
   "source": [
    "# cafe_sales['Quantity'].unique()\n",
    "\n",
    "#Changing column datatype\n",
    "cafe_sales['Quantity'] = pd.to_numeric(cafe_sales['Quantity'])"
   ]
  },
  {
   "cell_type": "code",
   "execution_count": 11,
   "id": "0d68e8b5-5a3e-49f4-ac31-a11d5b78fc44",
   "metadata": {},
   "outputs": [
    {
     "name": "stdout",
     "output_type": "stream",
     "text": [
      "<class 'pandas.core.series.Series'>\n",
      "RangeIndex: 10000 entries, 0 to 9999\n",
      "Series name: Quantity\n",
      "Non-Null Count  Dtype  \n",
      "--------------  -----  \n",
      "9521 non-null   float64\n",
      "dtypes: float64(1)\n",
      "memory usage: 78.3 KB\n"
     ]
    }
   ],
   "source": [
    "cafe_sales['Quantity'].info()"
   ]
  },
  {
   "cell_type": "code",
   "execution_count": 12,
   "id": "795fdf37-01d6-42d7-bc10-cbc8319e6c0a",
   "metadata": {},
   "outputs": [
    {
     "data": {
      "text/html": [
       "<div>\n",
       "<style scoped>\n",
       "    .dataframe tbody tr th:only-of-type {\n",
       "        vertical-align: middle;\n",
       "    }\n",
       "\n",
       "    .dataframe tbody tr th {\n",
       "        vertical-align: top;\n",
       "    }\n",
       "\n",
       "    .dataframe thead th {\n",
       "        text-align: right;\n",
       "    }\n",
       "</style>\n",
       "<table border=\"1\" class=\"dataframe\">\n",
       "  <thead>\n",
       "    <tr style=\"text-align: right;\">\n",
       "      <th></th>\n",
       "      <th>Transaction ID</th>\n",
       "      <th>Item</th>\n",
       "      <th>Quantity</th>\n",
       "      <th>Price Per Unit</th>\n",
       "      <th>Total Spent</th>\n",
       "      <th>Payment Method</th>\n",
       "      <th>Location</th>\n",
       "      <th>Transaction Date</th>\n",
       "    </tr>\n",
       "  </thead>\n",
       "  <tbody>\n",
       "    <tr>\n",
       "      <th>11</th>\n",
       "      <td>TXN_3051279</td>\n",
       "      <td>Sandwich</td>\n",
       "      <td>2.0</td>\n",
       "      <td>4.0</td>\n",
       "      <td>8.0</td>\n",
       "      <td>Credit Card</td>\n",
       "      <td>Takeaway</td>\n",
       "      <td>ERROR</td>\n",
       "    </tr>\n",
       "    <tr>\n",
       "      <th>29</th>\n",
       "      <td>TXN_7640952</td>\n",
       "      <td>Cake</td>\n",
       "      <td>4.0</td>\n",
       "      <td>3.0</td>\n",
       "      <td>12.0</td>\n",
       "      <td>Digital Wallet</td>\n",
       "      <td>Takeaway</td>\n",
       "      <td>ERROR</td>\n",
       "    </tr>\n",
       "    <tr>\n",
       "      <th>33</th>\n",
       "      <td>TXN_7710508</td>\n",
       "      <td>UNKNOWN</td>\n",
       "      <td>5.0</td>\n",
       "      <td>1.0</td>\n",
       "      <td>5.0</td>\n",
       "      <td>Cash</td>\n",
       "      <td>NaN</td>\n",
       "      <td>ERROR</td>\n",
       "    </tr>\n",
       "    <tr>\n",
       "      <th>103</th>\n",
       "      <td>TXN_7028009</td>\n",
       "      <td>Cake</td>\n",
       "      <td>4.0</td>\n",
       "      <td>3.0</td>\n",
       "      <td>12.0</td>\n",
       "      <td>NaN</td>\n",
       "      <td>Takeaway</td>\n",
       "      <td>ERROR</td>\n",
       "    </tr>\n",
       "    <tr>\n",
       "      <th>115</th>\n",
       "      <td>TXN_1001832</td>\n",
       "      <td>Salad</td>\n",
       "      <td>2.0</td>\n",
       "      <td>5.0</td>\n",
       "      <td>10.0</td>\n",
       "      <td>Cash</td>\n",
       "      <td>Takeaway</td>\n",
       "      <td>UNKNOWN</td>\n",
       "    </tr>\n",
       "    <tr>\n",
       "      <th>...</th>\n",
       "      <td>...</td>\n",
       "      <td>...</td>\n",
       "      <td>...</td>\n",
       "      <td>...</td>\n",
       "      <td>...</td>\n",
       "      <td>...</td>\n",
       "      <td>...</td>\n",
       "      <td>...</td>\n",
       "    </tr>\n",
       "    <tr>\n",
       "      <th>9907</th>\n",
       "      <td>TXN_8104914</td>\n",
       "      <td>Cookie</td>\n",
       "      <td>1.0</td>\n",
       "      <td>1.0</td>\n",
       "      <td>1.0</td>\n",
       "      <td>NaN</td>\n",
       "      <td>Takeaway</td>\n",
       "      <td>UNKNOWN</td>\n",
       "    </tr>\n",
       "    <tr>\n",
       "      <th>9933</th>\n",
       "      <td>TXN_9460419</td>\n",
       "      <td>Cake</td>\n",
       "      <td>1.0</td>\n",
       "      <td>3.0</td>\n",
       "      <td>3.0</td>\n",
       "      <td>NaN</td>\n",
       "      <td>Takeaway</td>\n",
       "      <td>UNKNOWN</td>\n",
       "    </tr>\n",
       "    <tr>\n",
       "      <th>9937</th>\n",
       "      <td>TXN_8253472</td>\n",
       "      <td>Cake</td>\n",
       "      <td>1.0</td>\n",
       "      <td>3.0</td>\n",
       "      <td>3.0</td>\n",
       "      <td>NaN</td>\n",
       "      <td>NaN</td>\n",
       "      <td>UNKNOWN</td>\n",
       "    </tr>\n",
       "    <tr>\n",
       "      <th>9949</th>\n",
       "      <td>TXN_3130865</td>\n",
       "      <td>Juice</td>\n",
       "      <td>3.0</td>\n",
       "      <td>3.0</td>\n",
       "      <td>9.0</td>\n",
       "      <td>NaN</td>\n",
       "      <td>In-store</td>\n",
       "      <td>UNKNOWN</td>\n",
       "    </tr>\n",
       "    <tr>\n",
       "      <th>9983</th>\n",
       "      <td>TXN_9226047</td>\n",
       "      <td>Smoothie</td>\n",
       "      <td>3.0</td>\n",
       "      <td>4.0</td>\n",
       "      <td>12.0</td>\n",
       "      <td>Cash</td>\n",
       "      <td>NaN</td>\n",
       "      <td>UNKNOWN</td>\n",
       "    </tr>\n",
       "  </tbody>\n",
       "</table>\n",
       "<p>301 rows × 8 columns</p>\n",
       "</div>"
      ],
      "text/plain": [
       "     Transaction ID      Item  Quantity Price Per Unit Total Spent  \\\n",
       "11      TXN_3051279  Sandwich       2.0            4.0         8.0   \n",
       "29      TXN_7640952      Cake       4.0            3.0        12.0   \n",
       "33      TXN_7710508   UNKNOWN       5.0            1.0         5.0   \n",
       "103     TXN_7028009      Cake       4.0            3.0        12.0   \n",
       "115     TXN_1001832     Salad       2.0            5.0        10.0   \n",
       "...             ...       ...       ...            ...         ...   \n",
       "9907    TXN_8104914    Cookie       1.0            1.0         1.0   \n",
       "9933    TXN_9460419      Cake       1.0            3.0         3.0   \n",
       "9937    TXN_8253472      Cake       1.0            3.0         3.0   \n",
       "9949    TXN_3130865     Juice       3.0            3.0         9.0   \n",
       "9983    TXN_9226047  Smoothie       3.0            4.0        12.0   \n",
       "\n",
       "      Payment Method  Location Transaction Date  \n",
       "11       Credit Card  Takeaway            ERROR  \n",
       "29    Digital Wallet  Takeaway            ERROR  \n",
       "33              Cash       NaN            ERROR  \n",
       "103              NaN  Takeaway            ERROR  \n",
       "115             Cash  Takeaway          UNKNOWN  \n",
       "...              ...       ...              ...  \n",
       "9907             NaN  Takeaway          UNKNOWN  \n",
       "9933             NaN  Takeaway          UNKNOWN  \n",
       "9937             NaN       NaN          UNKNOWN  \n",
       "9949             NaN  In-store          UNKNOWN  \n",
       "9983            Cash       NaN          UNKNOWN  \n",
       "\n",
       "[301 rows x 8 columns]"
      ]
     },
     "execution_count": 12,
     "metadata": {},
     "output_type": "execute_result"
    }
   ],
   "source": [
    "# cafe_sales['Transaction Date'].unique()\n",
    "# cafe_sales['Transaction Date'].isna().sum()\n",
    "\n",
    "#Rows in Transaction Date column with ERROR and UNKNOWN\n",
    "mask = cafe_sales['Transaction Date'].isin(['ERROR', 'UNKNOWN'])\n",
    "cafe_sales[mask]"
   ]
  },
  {
   "cell_type": "code",
   "execution_count": 13,
   "id": "28117524-5b1b-40d9-900f-afe20b01f611",
   "metadata": {},
   "outputs": [
    {
     "data": {
      "text/plain": [
       "301"
      ]
     },
     "execution_count": 13,
     "metadata": {},
     "output_type": "execute_result"
    }
   ],
   "source": [
    "#counting how many rows with error and unknown\n",
    "cafe_sales['Transaction Date'].isin(['ERROR', 'UNKNOWN']).sum()"
   ]
  },
  {
   "cell_type": "code",
   "execution_count": 14,
   "id": "962a7d11-a5cb-4a16-b574-a62f0f541d63",
   "metadata": {},
   "outputs": [],
   "source": [
    "# cafe_sales['Item'].unique()\n",
    "# cafe_sales['Price Per Unit'].unique()\n",
    "# cafe_sales['Total Spent'].unique()\n",
    "# cafe_sales['Payment Method'].unique()\n",
    "# cafe_sales['Location'].unique()"
   ]
  },
  {
   "cell_type": "code",
   "execution_count": 15,
   "id": "489025b7-3c15-4191-811a-4c7bd6577658",
   "metadata": {},
   "outputs": [],
   "source": [
    "#Replacing all the rows in the dataset that have ERROR and UNKNOWN to achieve data consistency\n",
    "cafe_sales = cafe_sales.replace(['ERROR', 'UNKNOWN'], np.nan)"
   ]
  },
  {
   "cell_type": "code",
   "execution_count": 16,
   "id": "8057d572-7414-4989-89cc-2b53eea702ae",
   "metadata": {},
   "outputs": [
    {
     "data": {
      "text/plain": [
       "Transaction ID      0\n",
       "Item                0\n",
       "Quantity            0\n",
       "Price Per Unit      0\n",
       "Total Spent         0\n",
       "Payment Method      0\n",
       "Location            0\n",
       "Transaction Date    0\n",
       "dtype: int64"
      ]
     },
     "execution_count": 16,
     "metadata": {},
     "output_type": "execute_result"
    }
   ],
   "source": [
    "#checking\n",
    "cafe_sales.isin(['ERROR', 'UNKNOWN']).sum()"
   ]
  },
  {
   "cell_type": "code",
   "execution_count": 17,
   "id": "018e2ab1-dc41-4d1e-979c-e8b5c489d828",
   "metadata": {},
   "outputs": [
    {
     "name": "stdout",
     "output_type": "stream",
     "text": [
      "<class 'pandas.core.frame.DataFrame'>\n",
      "RangeIndex: 10000 entries, 0 to 9999\n",
      "Data columns (total 8 columns):\n",
      " #   Column            Non-Null Count  Dtype  \n",
      "---  ------            --------------  -----  \n",
      " 0   Transaction ID    10000 non-null  object \n",
      " 1   Item              9031 non-null   object \n",
      " 2   Quantity          9521 non-null   float64\n",
      " 3   Price Per Unit    9467 non-null   object \n",
      " 4   Total Spent       9498 non-null   object \n",
      " 5   Payment Method    6822 non-null   object \n",
      " 6   Location          6039 non-null   object \n",
      " 7   Transaction Date  9540 non-null   object \n",
      "dtypes: float64(1), object(7)\n",
      "memory usage: 625.1+ KB\n"
     ]
    }
   ],
   "source": [
    "cafe_sales.info()"
   ]
  },
  {
   "cell_type": "code",
   "execution_count": 18,
   "id": "9039f598-c36f-4fd4-853f-cade279367c3",
   "metadata": {},
   "outputs": [],
   "source": [
    "#changing datatypes for columns\n",
    "cafe_sales['Price Per Unit'] = pd.to_numeric(cafe_sales['Price Per Unit'])\n",
    "cafe_sales['Total Spent'] = pd.to_numeric(cafe_sales['Total Spent'])\n",
    "cafe_sales['Transaction Date'] = pd.to_datetime(cafe_sales['Transaction Date'])"
   ]
  },
  {
   "cell_type": "code",
   "execution_count": 19,
   "id": "e0d72c67-423d-4fbb-89e4-d72e4e82b968",
   "metadata": {},
   "outputs": [
    {
     "name": "stdout",
     "output_type": "stream",
     "text": [
      "<class 'pandas.core.frame.DataFrame'>\n",
      "RangeIndex: 10000 entries, 0 to 9999\n",
      "Data columns (total 8 columns):\n",
      " #   Column            Non-Null Count  Dtype         \n",
      "---  ------            --------------  -----         \n",
      " 0   Transaction ID    10000 non-null  object        \n",
      " 1   Item              9031 non-null   object        \n",
      " 2   Quantity          9521 non-null   float64       \n",
      " 3   Price Per Unit    9467 non-null   float64       \n",
      " 4   Total Spent       9498 non-null   float64       \n",
      " 5   Payment Method    6822 non-null   object        \n",
      " 6   Location          6039 non-null   object        \n",
      " 7   Transaction Date  9540 non-null   datetime64[ns]\n",
      "dtypes: datetime64[ns](1), float64(3), object(4)\n",
      "memory usage: 625.1+ KB\n"
     ]
    }
   ],
   "source": [
    "cafe_sales.info()"
   ]
  },
  {
   "cell_type": "code",
   "execution_count": 20,
   "id": "5b951b46-e644-423c-b4c1-8e47fff27687",
   "metadata": {},
   "outputs": [
    {
     "data": {
      "text/plain": [
       "Transaction ID         0\n",
       "Item                 969\n",
       "Quantity             479\n",
       "Price Per Unit       533\n",
       "Total Spent          502\n",
       "Payment Method      3178\n",
       "Location            3961\n",
       "Transaction Date     460\n",
       "dtype: int64"
      ]
     },
     "execution_count": 20,
     "metadata": {},
     "output_type": "execute_result"
    }
   ],
   "source": [
    "#checkin null values in each column\n",
    "cafe_sales.isnull().sum()"
   ]
  },
  {
   "cell_type": "code",
   "execution_count": 21,
   "id": "e61e7865-8103-454a-989a-fa923f9131e0",
   "metadata": {},
   "outputs": [
    {
     "data": {
      "text/plain": [
       "0"
      ]
     },
     "execution_count": 21,
     "metadata": {},
     "output_type": "execute_result"
    }
   ],
   "source": [
    "#checking for duplicate rows\n",
    "cafe_sales.duplicated().sum()"
   ]
  },
  {
   "cell_type": "code",
   "execution_count": 22,
   "id": "42c02732-a404-4851-8cdc-7c206ef5b027",
   "metadata": {},
   "outputs": [
    {
     "data": {
      "text/html": [
       "<div>\n",
       "<style scoped>\n",
       "    .dataframe tbody tr th:only-of-type {\n",
       "        vertical-align: middle;\n",
       "    }\n",
       "\n",
       "    .dataframe tbody tr th {\n",
       "        vertical-align: top;\n",
       "    }\n",
       "\n",
       "    .dataframe thead th {\n",
       "        text-align: right;\n",
       "    }\n",
       "</style>\n",
       "<table border=\"1\" class=\"dataframe\">\n",
       "  <thead>\n",
       "    <tr style=\"text-align: right;\">\n",
       "      <th></th>\n",
       "      <th>Transaction ID</th>\n",
       "      <th>Item</th>\n",
       "      <th>Quantity</th>\n",
       "      <th>Price Per Unit</th>\n",
       "      <th>Total Spent</th>\n",
       "      <th>Payment Method</th>\n",
       "      <th>Location</th>\n",
       "      <th>Transaction Date</th>\n",
       "    </tr>\n",
       "  </thead>\n",
       "  <tbody>\n",
       "    <tr>\n",
       "      <th>count</th>\n",
       "      <td>10000</td>\n",
       "      <td>9031</td>\n",
       "      <td>9521.000000</td>\n",
       "      <td>9467.000000</td>\n",
       "      <td>9498.000000</td>\n",
       "      <td>6822</td>\n",
       "      <td>6039</td>\n",
       "      <td>9540</td>\n",
       "    </tr>\n",
       "    <tr>\n",
       "      <th>unique</th>\n",
       "      <td>10000</td>\n",
       "      <td>8</td>\n",
       "      <td>NaN</td>\n",
       "      <td>NaN</td>\n",
       "      <td>NaN</td>\n",
       "      <td>3</td>\n",
       "      <td>2</td>\n",
       "      <td>NaN</td>\n",
       "    </tr>\n",
       "    <tr>\n",
       "      <th>top</th>\n",
       "      <td>TXN_1961373</td>\n",
       "      <td>Juice</td>\n",
       "      <td>NaN</td>\n",
       "      <td>NaN</td>\n",
       "      <td>NaN</td>\n",
       "      <td>Digital Wallet</td>\n",
       "      <td>Takeaway</td>\n",
       "      <td>NaN</td>\n",
       "    </tr>\n",
       "    <tr>\n",
       "      <th>freq</th>\n",
       "      <td>1</td>\n",
       "      <td>1171</td>\n",
       "      <td>NaN</td>\n",
       "      <td>NaN</td>\n",
       "      <td>NaN</td>\n",
       "      <td>2291</td>\n",
       "      <td>3022</td>\n",
       "      <td>NaN</td>\n",
       "    </tr>\n",
       "    <tr>\n",
       "      <th>mean</th>\n",
       "      <td>NaN</td>\n",
       "      <td>NaN</td>\n",
       "      <td>3.028463</td>\n",
       "      <td>2.949984</td>\n",
       "      <td>8.924352</td>\n",
       "      <td>NaN</td>\n",
       "      <td>NaN</td>\n",
       "      <td>2023-07-01 23:00:31.698113280</td>\n",
       "    </tr>\n",
       "    <tr>\n",
       "      <th>min</th>\n",
       "      <td>NaN</td>\n",
       "      <td>NaN</td>\n",
       "      <td>1.000000</td>\n",
       "      <td>1.000000</td>\n",
       "      <td>1.000000</td>\n",
       "      <td>NaN</td>\n",
       "      <td>NaN</td>\n",
       "      <td>2023-01-01 00:00:00</td>\n",
       "    </tr>\n",
       "    <tr>\n",
       "      <th>25%</th>\n",
       "      <td>NaN</td>\n",
       "      <td>NaN</td>\n",
       "      <td>2.000000</td>\n",
       "      <td>2.000000</td>\n",
       "      <td>4.000000</td>\n",
       "      <td>NaN</td>\n",
       "      <td>NaN</td>\n",
       "      <td>2023-04-01 00:00:00</td>\n",
       "    </tr>\n",
       "    <tr>\n",
       "      <th>50%</th>\n",
       "      <td>NaN</td>\n",
       "      <td>NaN</td>\n",
       "      <td>3.000000</td>\n",
       "      <td>3.000000</td>\n",
       "      <td>8.000000</td>\n",
       "      <td>NaN</td>\n",
       "      <td>NaN</td>\n",
       "      <td>2023-07-02 00:00:00</td>\n",
       "    </tr>\n",
       "    <tr>\n",
       "      <th>75%</th>\n",
       "      <td>NaN</td>\n",
       "      <td>NaN</td>\n",
       "      <td>4.000000</td>\n",
       "      <td>4.000000</td>\n",
       "      <td>12.000000</td>\n",
       "      <td>NaN</td>\n",
       "      <td>NaN</td>\n",
       "      <td>2023-10-02 00:00:00</td>\n",
       "    </tr>\n",
       "    <tr>\n",
       "      <th>max</th>\n",
       "      <td>NaN</td>\n",
       "      <td>NaN</td>\n",
       "      <td>5.000000</td>\n",
       "      <td>5.000000</td>\n",
       "      <td>25.000000</td>\n",
       "      <td>NaN</td>\n",
       "      <td>NaN</td>\n",
       "      <td>2023-12-31 00:00:00</td>\n",
       "    </tr>\n",
       "    <tr>\n",
       "      <th>std</th>\n",
       "      <td>NaN</td>\n",
       "      <td>NaN</td>\n",
       "      <td>1.419007</td>\n",
       "      <td>1.278450</td>\n",
       "      <td>6.009919</td>\n",
       "      <td>NaN</td>\n",
       "      <td>NaN</td>\n",
       "      <td>NaN</td>\n",
       "    </tr>\n",
       "  </tbody>\n",
       "</table>\n",
       "</div>"
      ],
      "text/plain": [
       "       Transaction ID   Item     Quantity  Price Per Unit  Total Spent  \\\n",
       "count           10000   9031  9521.000000     9467.000000  9498.000000   \n",
       "unique          10000      8          NaN             NaN          NaN   \n",
       "top       TXN_1961373  Juice          NaN             NaN          NaN   \n",
       "freq                1   1171          NaN             NaN          NaN   \n",
       "mean              NaN    NaN     3.028463        2.949984     8.924352   \n",
       "min               NaN    NaN     1.000000        1.000000     1.000000   \n",
       "25%               NaN    NaN     2.000000        2.000000     4.000000   \n",
       "50%               NaN    NaN     3.000000        3.000000     8.000000   \n",
       "75%               NaN    NaN     4.000000        4.000000    12.000000   \n",
       "max               NaN    NaN     5.000000        5.000000    25.000000   \n",
       "std               NaN    NaN     1.419007        1.278450     6.009919   \n",
       "\n",
       "        Payment Method  Location               Transaction Date  \n",
       "count             6822      6039                           9540  \n",
       "unique               3         2                            NaN  \n",
       "top     Digital Wallet  Takeaway                            NaN  \n",
       "freq              2291      3022                            NaN  \n",
       "mean               NaN       NaN  2023-07-01 23:00:31.698113280  \n",
       "min                NaN       NaN            2023-01-01 00:00:00  \n",
       "25%                NaN       NaN            2023-04-01 00:00:00  \n",
       "50%                NaN       NaN            2023-07-02 00:00:00  \n",
       "75%                NaN       NaN            2023-10-02 00:00:00  \n",
       "max                NaN       NaN            2023-12-31 00:00:00  \n",
       "std                NaN       NaN                            NaN  "
      ]
     },
     "execution_count": 22,
     "metadata": {},
     "output_type": "execute_result"
    }
   ],
   "source": [
    "cafe_sales.describe(include = 'all')"
   ]
  },
  {
   "cell_type": "code",
   "execution_count": 23,
   "id": "06a73fb5-2541-4113-b535-d056c0a7a678",
   "metadata": {},
   "outputs": [],
   "source": [
    "#Data imputation "
   ]
  },
  {
   "cell_type": "code",
   "execution_count": 24,
   "id": "ca0fe09c-9e7f-4499-9c40-22ce0e40af91",
   "metadata": {},
   "outputs": [],
   "source": [
    "# Price Per Unit, Quantity and Total Spent are related to each other\n",
    "# PPU = TS/Q\n",
    "# Q = TS/PPU\n",
    "# TS = PPU * Q"
   ]
  },
  {
   "cell_type": "code",
   "execution_count": 25,
   "id": "f2a27e6f-c89a-4b43-8e22-d73b56905fb0",
   "metadata": {},
   "outputs": [],
   "source": [
    "#Filling null values of Price Per Unit column\n",
    "#None null values of TS and Q will fill in null values of PPU: PPU = TS/Q\n",
    "ppu_missing = cafe_sales['Price Per Unit'].isna() & cafe_sales['Total Spent'].notna() & cafe_sales['Quantity'].notna()\n",
    "cafe_sales.loc[ppu_missing, 'Price Per Unit'] = cafe_sales.loc[ppu_missing, 'Total Spent'] / cafe_sales.loc[ppu_missing, 'Quantity']\n"
   ]
  },
  {
   "cell_type": "code",
   "execution_count": 26,
   "id": "e276c293-66d5-412b-ae55-7a102af86803",
   "metadata": {},
   "outputs": [
    {
     "data": {
      "text/plain": [
       "38"
      ]
     },
     "execution_count": 26,
     "metadata": {},
     "output_type": "execute_result"
    }
   ],
   "source": [
    "cafe_sales['Price Per Unit'].isnull().sum()\n",
    "#from 533 null values to 38 null values"
   ]
  },
  {
   "cell_type": "code",
   "execution_count": 27,
   "id": "ae8186fc-cd2f-4794-b0b5-5e2b668786d9",
   "metadata": {},
   "outputs": [],
   "source": [
    "#similarly, for columns Quantity and Total Spent\n",
    "#filling TS when PPU and Q are known: TS = PPU * Q\n",
    "ts_missing = cafe_sales['Total Spent'].isna() & cafe_sales['Price Per Unit'].notna() & cafe_sales['Quantity'].notna()\n",
    "cafe_sales.loc[ts_missing, 'Total Spent'] = cafe_sales.loc[ts_missing, 'Price Per Unit'] * cafe_sales.loc[ts_missing, 'Quantity']\n"
   ]
  },
  {
   "cell_type": "code",
   "execution_count": 30,
   "id": "e61099f2-3738-4620-9b65-2f136f3a0b9a",
   "metadata": {},
   "outputs": [
    {
     "data": {
      "text/plain": [
       "40"
      ]
     },
     "execution_count": 30,
     "metadata": {},
     "output_type": "execute_result"
    }
   ],
   "source": [
    "cafe_sales['Total Spent'].isnull().sum()\n",
    "#from 502 to 40 null values"
   ]
  },
  {
   "cell_type": "code",
   "execution_count": 32,
   "id": "e9cdf3fa-4f30-4480-840c-bf3555a1e080",
   "metadata": {},
   "outputs": [],
   "source": [
    "#filling Q when PPU and TS are known: Q = TS/PPU\n",
    "qty_missing = cafe_sales['Quantity'].isna() & cafe_sales['Price Per Unit'].notna() & cafe_sales['Total Spent'].notna()\n",
    "cafe_sales.loc[qty_missing, 'Quantity'] = cafe_sales.loc[qty_missing, 'Total Spent'] / cafe_sales.loc[qty_missing, 'Price Per Unit']\n"
   ]
  },
  {
   "cell_type": "code",
   "execution_count": 33,
   "id": "b983f37a-1819-4676-8bbb-3722ccd80490",
   "metadata": {},
   "outputs": [
    {
     "data": {
      "text/plain": [
       "38"
      ]
     },
     "execution_count": 33,
     "metadata": {},
     "output_type": "execute_result"
    }
   ],
   "source": [
    "cafe_sales['Quantity'].isnull().sum()\n",
    "#from 479 to 38"
   ]
  },
  {
   "cell_type": "code",
   "execution_count": 36,
   "id": "274f4ae3-19d5-45bd-b810-204ab32a3a26",
   "metadata": {},
   "outputs": [],
   "source": [
    "#Price Per Unit column can further be imputed using the Items column\n",
    "#to ensure data quality for imputation,\n",
    "#calculating average price per unit for each item to get a mean price value for a particular item\n",
    "price_per_item = cafe_sales.groupby('Item')['Price Per Unit'].mean()"
   ]
  },
  {
   "cell_type": "code",
   "execution_count": 37,
   "id": "017f9c08-548b-413e-9464-7e813e831552",
   "metadata": {},
   "outputs": [
    {
     "name": "stdout",
     "output_type": "stream",
     "text": [
      "Item\n",
      "Cake        3.0\n",
      "Coffee      2.0\n",
      "Cookie      1.0\n",
      "Juice       3.0\n",
      "Salad       5.0\n",
      "Sandwich    4.0\n",
      "Smoothie    4.0\n",
      "Tea         1.5\n",
      "Name: Price Per Unit, dtype: float64\n"
     ]
    }
   ],
   "source": [
    "print(price_per_item)"
   ]
  },
  {
   "cell_type": "code",
   "execution_count": 38,
   "id": "a24f5610-a8d9-4944-a276-1e7a4ca9c8b8",
   "metadata": {},
   "outputs": [],
   "source": [
    "#missing values in the PPU column are filled by looking at the Item in that row and then using the avg ppu calculated for that item to fill row\n",
    "cafe_sales['Price Per Unit'] = cafe_sales['Price Per Unit'].fillna(cafe_sales['Item'].map(price_per_item))\n"
   ]
  },
  {
   "cell_type": "code",
   "execution_count": 40,
   "id": "c0f8f090-91a6-48b8-b412-083b592f5f1d",
   "metadata": {},
   "outputs": [
    {
     "data": {
      "text/plain": [
       "6"
      ]
     },
     "execution_count": 40,
     "metadata": {},
     "output_type": "execute_result"
    }
   ],
   "source": [
    "#verifying if missing values are filled\n",
    "cafe_sales['Price Per Unit'].isnull().sum()\n",
    "#from 38 to 6"
   ]
  },
  {
   "cell_type": "code",
   "execution_count": 42,
   "id": "4e9ac14d-753b-4844-96e2-c4668a90b8f0",
   "metadata": {},
   "outputs": [],
   "source": [
    "#now, to further reduce missing values in Quantity column using the new reduced Price Per Unit column\n",
    "#using same formula\n",
    "#filling Q when PPU and TS are known: Q = TS/PPU\n",
    "qty_missing = cafe_sales['Quantity'].isna() & cafe_sales['Price Per Unit'].notna() & cafe_sales['Total Spent'].notna()\n",
    "cafe_sales.loc[qty_missing, 'Quantity'] = cafe_sales.loc[qty_missing, 'Total Spent'] / cafe_sales.loc[qty_missing, 'Price Per Unit']"
   ]
  },
  {
   "cell_type": "code",
   "execution_count": 46,
   "id": "f4943556-763a-412a-b068-6c202cf3b9b1",
   "metadata": {},
   "outputs": [
    {
     "data": {
      "text/plain": [
       "23"
      ]
     },
     "execution_count": 46,
     "metadata": {},
     "output_type": "execute_result"
    }
   ],
   "source": [
    "cafe_sales['Quantity'].isnull().sum()\n",
    "#from 38 to 23"
   ]
  },
  {
   "cell_type": "code",
   "execution_count": 47,
   "id": "6a8044d7-f428-434c-92a6-dbe369d6d1da",
   "metadata": {},
   "outputs": [],
   "source": [
    "#similarly for Total Spent column, using the new reduced Price Per Unit column\n",
    "\n",
    "#filling TS when PPU and Q are known: TS = PPU * Q\n",
    "ts_missing = cafe_sales['Total Spent'].isna() & cafe_sales['Price Per Unit'].notna() & cafe_sales['Quantity'].notna()\n",
    "cafe_sales.loc[ts_missing, 'Total Spent'] = cafe_sales.loc[ts_missing, 'Price Per Unit'] * cafe_sales.loc[ts_missing, 'Quantity']"
   ]
  },
  {
   "cell_type": "code",
   "execution_count": 48,
   "id": "32fe4c9a-ca54-48be-b481-4bd8a4bfe72c",
   "metadata": {},
   "outputs": [
    {
     "data": {
      "text/plain": [
       "23"
      ]
     },
     "execution_count": 48,
     "metadata": {},
     "output_type": "execute_result"
    }
   ],
   "source": [
    "cafe_sales['Total Spent'].isnull().sum()\n",
    "#from 40 to 23"
   ]
  },
  {
   "cell_type": "code",
   "execution_count": 49,
   "id": "edb6ba7e-e75b-420c-b4d8-0ef6c922fd5f",
   "metadata": {},
   "outputs": [],
   "source": [
    "#handling Item column"
   ]
  },
  {
   "cell_type": "code",
   "execution_count": 58,
   "id": "aa89acde-0b3b-41af-95c8-de3aea5df8a8",
   "metadata": {},
   "outputs": [],
   "source": [
    "#imputing using mode\n",
    "most_common_item = cafe_sales['Item'].mode()[0]\n",
    "cafe_sales['Item'] = cafe_sales['Item'].fillna(most_common_item)"
   ]
  },
  {
   "cell_type": "code",
   "execution_count": 59,
   "id": "349d3cef-5376-4782-b50f-cb9eceab3057",
   "metadata": {},
   "outputs": [
    {
     "data": {
      "text/plain": [
       "Transaction ID         0\n",
       "Item                   0\n",
       "Quantity              23\n",
       "Price Per Unit         6\n",
       "Total Spent           23\n",
       "Payment Method      3178\n",
       "Location            3961\n",
       "Transaction Date     460\n",
       "dtype: int64"
      ]
     },
     "execution_count": 59,
     "metadata": {},
     "output_type": "execute_result"
    }
   ],
   "source": [
    "cafe_sales.isnull().sum()"
   ]
  },
  {
   "cell_type": "code",
   "execution_count": 61,
   "id": "8a23cf54-080c-4dc0-8e87-a51fc499e001",
   "metadata": {},
   "outputs": [],
   "source": [
    "# cafe_sales_cleaned = pd.read_csv('cafe_sales_cleaned.csv')\n",
    "cafe_sales.to_csv('cafe_sales_cleaned.csv', index=False)\n",
    "\n"
   ]
  },
  {
   "cell_type": "code",
   "execution_count": 62,
   "id": "081ecad8-db3c-43ff-90f3-6eac90a39f2f",
   "metadata": {},
   "outputs": [
    {
     "name": "stdout",
     "output_type": "stream",
     "text": [
      "C:\\Users\\DELL\n"
     ]
    }
   ],
   "source": [
    "import os\n",
    "print(os.getcwd())"
   ]
  },
  {
   "cell_type": "code",
   "execution_count": 2,
   "id": "0d3d21ba-ca37-41ec-851a-900e1a2d2b58",
   "metadata": {},
   "outputs": [],
   "source": [
    "import pandas as pd\n",
    "import numpy as np\n",
    "\n",
    "cafe_sales = pd.read_csv('cafe_sales_cleaned.csv')"
   ]
  },
  {
   "cell_type": "code",
   "execution_count": 5,
   "id": "15ee0a7e-c987-4940-9618-810a63bc861f",
   "metadata": {},
   "outputs": [
    {
     "name": "stdout",
     "output_type": "stream",
     "text": [
      "<class 'pandas.core.frame.DataFrame'>\n",
      "RangeIndex: 10000 entries, 0 to 9999\n",
      "Data columns (total 8 columns):\n",
      " #   Column            Non-Null Count  Dtype         \n",
      "---  ------            --------------  -----         \n",
      " 0   Transaction ID    10000 non-null  object        \n",
      " 1   Item              10000 non-null  object        \n",
      " 2   Quantity          9977 non-null   float64       \n",
      " 3   Price Per Unit    9994 non-null   float64       \n",
      " 4   Total Spent       9977 non-null   float64       \n",
      " 5   Payment Method    6822 non-null   object        \n",
      " 6   Location          6039 non-null   object        \n",
      " 7   Transaction Date  9540 non-null   datetime64[ns]\n",
      "dtypes: datetime64[ns](1), float64(3), object(4)\n",
      "memory usage: 625.1+ KB\n",
      "None\n",
      "Transaction ID         0\n",
      "Item                   0\n",
      "Quantity              23\n",
      "Price Per Unit         6\n",
      "Total Spent           23\n",
      "Payment Method      3178\n",
      "Location            3961\n",
      "Transaction Date     460\n",
      "dtype: int64\n"
     ]
    }
   ],
   "source": [
    "# cafe_sales.head(5)\n",
    "print(cafe_sales.info())\n",
    "print(cafe_sales.isnull().sum())"
   ]
  },
  {
   "cell_type": "code",
   "execution_count": 3,
   "id": "e7425074-ff52-4d8d-b65e-1a55d087d78f",
   "metadata": {},
   "outputs": [],
   "source": [
    "cafe_sales['Transaction Date'] = pd.to_datetime(cafe_sales['Transaction Date'])"
   ]
  },
  {
   "cell_type": "code",
   "execution_count": 7,
   "id": "5b5f4e48-c386-403b-86c2-9596d94425c9",
   "metadata": {},
   "outputs": [
    {
     "data": {
      "text/plain": [
       "False"
      ]
     },
     "execution_count": 7,
     "metadata": {},
     "output_type": "execute_result"
    }
   ],
   "source": [
    "#Checking if sorted\n",
    "# cafe_sales['Transaction Date'].is_monotonic_increasing\n",
    "cafe_sales['Transaction Date'].is_monotonic_decreasing"
   ]
  },
  {
   "cell_type": "code",
   "execution_count": 4,
   "id": "14814495-5254-475c-883a-180c41a5e04c",
   "metadata": {},
   "outputs": [],
   "source": [
    "#Sorting\n",
    "cafe_sales = cafe_sales.sort_values(by='Transaction Date').reset_index(drop=True)\n"
   ]
  },
  {
   "cell_type": "code",
   "execution_count": 5,
   "id": "f5fa2e49-57c9-4df2-89fd-d36dd6069336",
   "metadata": {},
   "outputs": [
    {
     "data": {
      "text/plain": [
       "0"
      ]
     },
     "execution_count": 5,
     "metadata": {},
     "output_type": "execute_result"
    }
   ],
   "source": [
    "#filling missing rows\n",
    "cafe_sales['Transaction Date'] = cafe_sales['Transaction Date'].ffill()\n",
    "\n",
    "cafe_sales['Transaction Date'].isna().sum()"
   ]
  },
  {
   "cell_type": "code",
   "execution_count": 6,
   "id": "5df6c3e5-7161-4690-ae29-3fa180f0c207",
   "metadata": {},
   "outputs": [
    {
     "data": {
      "text/plain": [
       "Transaction ID         0\n",
       "Item                   0\n",
       "Quantity              23\n",
       "Price Per Unit         6\n",
       "Total Spent           23\n",
       "Payment Method      3178\n",
       "Location            3961\n",
       "Transaction Date       0\n",
       "dtype: int64"
      ]
     },
     "execution_count": 6,
     "metadata": {},
     "output_type": "execute_result"
    }
   ],
   "source": [
    "cafe_sales.isnull().sum()"
   ]
  },
  {
   "cell_type": "code",
   "execution_count": 7,
   "id": "055f9e42-d47b-4260-a714-7d19671ba063",
   "metadata": {},
   "outputs": [],
   "source": [
    "#filling the remaining columns\n",
    "cafe_sales['Location'] = cafe_sales['Location'].ffill()\n",
    "cafe_sales['Payment Method'] = cafe_sales['Payment Method'].ffill()\n"
   ]
  },
  {
   "cell_type": "code",
   "execution_count": 8,
   "id": "fccdb726-4df8-4f1f-8467-6e80a5569f61",
   "metadata": {},
   "outputs": [
    {
     "data": {
      "text/plain": [
       "Transaction ID       0\n",
       "Item                 0\n",
       "Quantity            23\n",
       "Price Per Unit       6\n",
       "Total Spent         23\n",
       "Payment Method       0\n",
       "Location             0\n",
       "Transaction Date     0\n",
       "dtype: int64"
      ]
     },
     "execution_count": 8,
     "metadata": {},
     "output_type": "execute_result"
    }
   ],
   "source": [
    "cafe_sales.isnull().sum()"
   ]
  },
  {
   "cell_type": "code",
   "execution_count": 9,
   "id": "b7fb386b-0f10-4234-8c48-af7e3ff47710",
   "metadata": {},
   "outputs": [],
   "source": [
    "cafe_sales.to_csv('cafe_sales_cleaned2.csv', index=False)"
   ]
  }
 ],
 "metadata": {
  "kernelspec": {
   "display_name": "Python [conda env:base] *",
   "language": "python",
   "name": "conda-base-py"
  },
  "language_info": {
   "codemirror_mode": {
    "name": "ipython",
    "version": 3
   },
   "file_extension": ".py",
   "mimetype": "text/x-python",
   "name": "python",
   "nbconvert_exporter": "python",
   "pygments_lexer": "ipython3",
   "version": "3.12.7"
  }
 },
 "nbformat": 4,
 "nbformat_minor": 5
}
