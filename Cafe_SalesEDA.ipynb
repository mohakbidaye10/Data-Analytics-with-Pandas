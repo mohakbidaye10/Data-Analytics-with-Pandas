{
 "cells": [
  {
   "cell_type": "code",
   "execution_count": 15,
   "id": "eb1dd116-1cd4-4f3d-8431-de81ec0cb87f",
   "metadata": {},
   "outputs": [],
   "source": [
    "import pandas as pd\n",
    "import numpy as np\n",
    "import matplotlib.pyplot as plt"
   ]
  },
  {
   "cell_type": "code",
   "execution_count": 2,
   "id": "f844c95a-d5b3-4921-b87b-f55ed22c571f",
   "metadata": {},
   "outputs": [],
   "source": [
    "#using the clean dataset saved into the csv\n",
    "cafe_sales = pd.read_csv('cafe_sales_cleaned2.csv')"
   ]
  },
  {
   "cell_type": "code",
   "execution_count": 3,
   "id": "f7822d2c-efa7-4900-96f1-422a868fc81c",
   "metadata": {},
   "outputs": [
    {
     "data": {
      "text/html": [
       "<div>\n",
       "<style scoped>\n",
       "    .dataframe tbody tr th:only-of-type {\n",
       "        vertical-align: middle;\n",
       "    }\n",
       "\n",
       "    .dataframe tbody tr th {\n",
       "        vertical-align: top;\n",
       "    }\n",
       "\n",
       "    .dataframe thead th {\n",
       "        text-align: right;\n",
       "    }\n",
       "</style>\n",
       "<table border=\"1\" class=\"dataframe\">\n",
       "  <thead>\n",
       "    <tr style=\"text-align: right;\">\n",
       "      <th></th>\n",
       "      <th>Transaction ID</th>\n",
       "      <th>Item</th>\n",
       "      <th>Quantity</th>\n",
       "      <th>Price Per Unit</th>\n",
       "      <th>Total Spent</th>\n",
       "      <th>Payment Method</th>\n",
       "      <th>Location</th>\n",
       "      <th>Transaction Date</th>\n",
       "    </tr>\n",
       "  </thead>\n",
       "  <tbody>\n",
       "    <tr>\n",
       "      <th>0</th>\n",
       "      <td>TXN_4801947</td>\n",
       "      <td>Juice</td>\n",
       "      <td>1.0</td>\n",
       "      <td>3.0</td>\n",
       "      <td>3.0</td>\n",
       "      <td>Digital Wallet</td>\n",
       "      <td>Takeaway</td>\n",
       "      <td>2023-01-01</td>\n",
       "    </tr>\n",
       "    <tr>\n",
       "      <th>1</th>\n",
       "      <td>TXN_9161256</td>\n",
       "      <td>Smoothie</td>\n",
       "      <td>2.0</td>\n",
       "      <td>4.0</td>\n",
       "      <td>8.0</td>\n",
       "      <td>Digital Wallet</td>\n",
       "      <td>In-store</td>\n",
       "      <td>2023-01-01</td>\n",
       "    </tr>\n",
       "    <tr>\n",
       "      <th>2</th>\n",
       "      <td>TXN_6093955</td>\n",
       "      <td>Tea</td>\n",
       "      <td>5.0</td>\n",
       "      <td>1.5</td>\n",
       "      <td>7.5</td>\n",
       "      <td>Digital Wallet</td>\n",
       "      <td>Takeaway</td>\n",
       "      <td>2023-01-01</td>\n",
       "    </tr>\n",
       "    <tr>\n",
       "      <th>3</th>\n",
       "      <td>TXN_8842223</td>\n",
       "      <td>Sandwich</td>\n",
       "      <td>5.0</td>\n",
       "      <td>4.0</td>\n",
       "      <td>20.0</td>\n",
       "      <td>Digital Wallet</td>\n",
       "      <td>In-store</td>\n",
       "      <td>2023-01-01</td>\n",
       "    </tr>\n",
       "    <tr>\n",
       "      <th>4</th>\n",
       "      <td>TXN_7367474</td>\n",
       "      <td>Juice</td>\n",
       "      <td>5.0</td>\n",
       "      <td>3.0</td>\n",
       "      <td>15.0</td>\n",
       "      <td>Digital Wallet</td>\n",
       "      <td>Takeaway</td>\n",
       "      <td>2023-01-01</td>\n",
       "    </tr>\n",
       "  </tbody>\n",
       "</table>\n",
       "</div>"
      ],
      "text/plain": [
       "  Transaction ID      Item  Quantity  Price Per Unit  Total Spent  \\\n",
       "0    TXN_4801947     Juice       1.0             3.0          3.0   \n",
       "1    TXN_9161256  Smoothie       2.0             4.0          8.0   \n",
       "2    TXN_6093955       Tea       5.0             1.5          7.5   \n",
       "3    TXN_8842223  Sandwich       5.0             4.0         20.0   \n",
       "4    TXN_7367474     Juice       5.0             3.0         15.0   \n",
       "\n",
       "   Payment Method  Location Transaction Date  \n",
       "0  Digital Wallet  Takeaway       2023-01-01  \n",
       "1  Digital Wallet  In-store       2023-01-01  \n",
       "2  Digital Wallet  Takeaway       2023-01-01  \n",
       "3  Digital Wallet  In-store       2023-01-01  \n",
       "4  Digital Wallet  Takeaway       2023-01-01  "
      ]
     },
     "execution_count": 3,
     "metadata": {},
     "output_type": "execute_result"
    }
   ],
   "source": [
    "cafe_sales.head(5)"
   ]
  },
  {
   "cell_type": "code",
   "execution_count": 4,
   "id": "18a535f0-1ff7-43fc-9867-d48795bb31fa",
   "metadata": {},
   "outputs": [
    {
     "name": "stdout",
     "output_type": "stream",
     "text": [
      "<class 'pandas.core.frame.DataFrame'>\n",
      "RangeIndex: 10000 entries, 0 to 9999\n",
      "Data columns (total 8 columns):\n",
      " #   Column            Non-Null Count  Dtype  \n",
      "---  ------            --------------  -----  \n",
      " 0   Transaction ID    10000 non-null  object \n",
      " 1   Item              10000 non-null  object \n",
      " 2   Quantity          9977 non-null   float64\n",
      " 3   Price Per Unit    9994 non-null   float64\n",
      " 4   Total Spent       9977 non-null   float64\n",
      " 5   Payment Method    10000 non-null  object \n",
      " 6   Location          10000 non-null  object \n",
      " 7   Transaction Date  10000 non-null  object \n",
      "dtypes: float64(3), object(5)\n",
      "memory usage: 625.1+ KB\n"
     ]
    }
   ],
   "source": [
    "cafe_sales.info()"
   ]
  },
  {
   "cell_type": "code",
   "execution_count": 5,
   "id": "f1e863dc-f84a-4324-8ac7-9e2ec2a52232",
   "metadata": {},
   "outputs": [
    {
     "data": {
      "text/plain": [
       "Transaction ID       0\n",
       "Item                 0\n",
       "Quantity            23\n",
       "Price Per Unit       6\n",
       "Total Spent         23\n",
       "Payment Method       0\n",
       "Location             0\n",
       "Transaction Date     0\n",
       "dtype: int64"
      ]
     },
     "execution_count": 5,
     "metadata": {},
     "output_type": "execute_result"
    }
   ],
   "source": [
    "cafe_sales.isnull().sum()"
   ]
  },
  {
   "cell_type": "code",
   "execution_count": 6,
   "id": "5b4d666b-4c26-454b-97df-d8aa71dc4a7f",
   "metadata": {},
   "outputs": [],
   "source": [
    "cafe_sales['Transaction Date'] = pd.to_datetime(cafe_sales['Transaction Date'])"
   ]
  },
  {
   "cell_type": "code",
   "execution_count": 7,
   "id": "1b954ebb-95dc-4cff-b194-46a8ba87314e",
   "metadata": {},
   "outputs": [
    {
     "data": {
      "text/html": [
       "<div>\n",
       "<style scoped>\n",
       "    .dataframe tbody tr th:only-of-type {\n",
       "        vertical-align: middle;\n",
       "    }\n",
       "\n",
       "    .dataframe tbody tr th {\n",
       "        vertical-align: top;\n",
       "    }\n",
       "\n",
       "    .dataframe thead th {\n",
       "        text-align: right;\n",
       "    }\n",
       "</style>\n",
       "<table border=\"1\" class=\"dataframe\">\n",
       "  <thead>\n",
       "    <tr style=\"text-align: right;\">\n",
       "      <th></th>\n",
       "      <th>Transaction ID</th>\n",
       "      <th>Item</th>\n",
       "      <th>Quantity</th>\n",
       "      <th>Price Per Unit</th>\n",
       "      <th>Total Spent</th>\n",
       "      <th>Payment Method</th>\n",
       "      <th>Location</th>\n",
       "      <th>Transaction Date</th>\n",
       "    </tr>\n",
       "  </thead>\n",
       "  <tbody>\n",
       "    <tr>\n",
       "      <th>0</th>\n",
       "      <td>TXN_4801947</td>\n",
       "      <td>Juice</td>\n",
       "      <td>1.0</td>\n",
       "      <td>3.0</td>\n",
       "      <td>3.0</td>\n",
       "      <td>Digital Wallet</td>\n",
       "      <td>Takeaway</td>\n",
       "      <td>2023-01-01</td>\n",
       "    </tr>\n",
       "    <tr>\n",
       "      <th>1</th>\n",
       "      <td>TXN_9161256</td>\n",
       "      <td>Smoothie</td>\n",
       "      <td>2.0</td>\n",
       "      <td>4.0</td>\n",
       "      <td>8.0</td>\n",
       "      <td>Digital Wallet</td>\n",
       "      <td>In-store</td>\n",
       "      <td>2023-01-01</td>\n",
       "    </tr>\n",
       "  </tbody>\n",
       "</table>\n",
       "</div>"
      ],
      "text/plain": [
       "  Transaction ID      Item  Quantity  Price Per Unit  Total Spent  \\\n",
       "0    TXN_4801947     Juice       1.0             3.0          3.0   \n",
       "1    TXN_9161256  Smoothie       2.0             4.0          8.0   \n",
       "\n",
       "   Payment Method  Location Transaction Date  \n",
       "0  Digital Wallet  Takeaway       2023-01-01  \n",
       "1  Digital Wallet  In-store       2023-01-01  "
      ]
     },
     "execution_count": 7,
     "metadata": {},
     "output_type": "execute_result"
    }
   ],
   "source": [
    "cafe_sales.head(2)"
   ]
  },
  {
   "cell_type": "code",
   "execution_count": 8,
   "id": "e05f1972-40ec-4f07-a3bc-6c3b22de8117",
   "metadata": {},
   "outputs": [],
   "source": [
    "cafe_sales_cleaned = cafe_sales.dropna()"
   ]
  },
  {
   "cell_type": "code",
   "execution_count": 9,
   "id": "195702dc-09b2-4d9a-b7b0-e6c62682c24d",
   "metadata": {},
   "outputs": [
    {
     "data": {
      "text/plain": [
       "Transaction ID      0\n",
       "Item                0\n",
       "Quantity            0\n",
       "Price Per Unit      0\n",
       "Total Spent         0\n",
       "Payment Method      0\n",
       "Location            0\n",
       "Transaction Date    0\n",
       "dtype: int64"
      ]
     },
     "execution_count": 9,
     "metadata": {},
     "output_type": "execute_result"
    }
   ],
   "source": [
    "#cleaned dataset\n",
    "cafe_sales_cleaned.isnull().sum()"
   ]
  },
  {
   "cell_type": "code",
   "execution_count": 10,
   "id": "603d5ad4-3e58-49d4-b9d7-702ac023abd8",
   "metadata": {},
   "outputs": [
    {
     "data": {
      "text/html": [
       "<div>\n",
       "<style scoped>\n",
       "    .dataframe tbody tr th:only-of-type {\n",
       "        vertical-align: middle;\n",
       "    }\n",
       "\n",
       "    .dataframe tbody tr th {\n",
       "        vertical-align: top;\n",
       "    }\n",
       "\n",
       "    .dataframe thead th {\n",
       "        text-align: right;\n",
       "    }\n",
       "</style>\n",
       "<table border=\"1\" class=\"dataframe\">\n",
       "  <thead>\n",
       "    <tr style=\"text-align: right;\">\n",
       "      <th></th>\n",
       "      <th>Quantity</th>\n",
       "      <th>Price Per Unit</th>\n",
       "      <th>Total Spent</th>\n",
       "      <th>Transaction Date</th>\n",
       "    </tr>\n",
       "  </thead>\n",
       "  <tbody>\n",
       "    <tr>\n",
       "      <th>count</th>\n",
       "      <td>9974.000000</td>\n",
       "      <td>9974.000000</td>\n",
       "      <td>9974.000000</td>\n",
       "      <td>9974</td>\n",
       "    </tr>\n",
       "    <tr>\n",
       "      <th>mean</th>\n",
       "      <td>3.024865</td>\n",
       "      <td>2.946962</td>\n",
       "      <td>8.927411</td>\n",
       "      <td>2023-07-10 08:43:47.631842816</td>\n",
       "    </tr>\n",
       "    <tr>\n",
       "      <th>min</th>\n",
       "      <td>1.000000</td>\n",
       "      <td>1.000000</td>\n",
       "      <td>1.000000</td>\n",
       "      <td>2023-01-01 00:00:00</td>\n",
       "    </tr>\n",
       "    <tr>\n",
       "      <th>25%</th>\n",
       "      <td>2.000000</td>\n",
       "      <td>2.000000</td>\n",
       "      <td>4.000000</td>\n",
       "      <td>2023-04-06 00:00:00</td>\n",
       "    </tr>\n",
       "    <tr>\n",
       "      <th>50%</th>\n",
       "      <td>3.000000</td>\n",
       "      <td>3.000000</td>\n",
       "      <td>8.000000</td>\n",
       "      <td>2023-07-11 00:00:00</td>\n",
       "    </tr>\n",
       "    <tr>\n",
       "      <th>75%</th>\n",
       "      <td>4.000000</td>\n",
       "      <td>4.000000</td>\n",
       "      <td>12.000000</td>\n",
       "      <td>2023-10-15 00:00:00</td>\n",
       "    </tr>\n",
       "    <tr>\n",
       "      <th>max</th>\n",
       "      <td>5.000000</td>\n",
       "      <td>5.000000</td>\n",
       "      <td>25.000000</td>\n",
       "      <td>2023-12-31 00:00:00</td>\n",
       "    </tr>\n",
       "    <tr>\n",
       "      <th>std</th>\n",
       "      <td>1.420504</td>\n",
       "      <td>1.280144</td>\n",
       "      <td>6.002644</td>\n",
       "      <td>NaN</td>\n",
       "    </tr>\n",
       "  </tbody>\n",
       "</table>\n",
       "</div>"
      ],
      "text/plain": [
       "          Quantity  Price Per Unit  Total Spent               Transaction Date\n",
       "count  9974.000000     9974.000000  9974.000000                           9974\n",
       "mean      3.024865        2.946962     8.927411  2023-07-10 08:43:47.631842816\n",
       "min       1.000000        1.000000     1.000000            2023-01-01 00:00:00\n",
       "25%       2.000000        2.000000     4.000000            2023-04-06 00:00:00\n",
       "50%       3.000000        3.000000     8.000000            2023-07-11 00:00:00\n",
       "75%       4.000000        4.000000    12.000000            2023-10-15 00:00:00\n",
       "max       5.000000        5.000000    25.000000            2023-12-31 00:00:00\n",
       "std       1.420504        1.280144     6.002644                            NaN"
      ]
     },
     "execution_count": 10,
     "metadata": {},
     "output_type": "execute_result"
    }
   ],
   "source": [
    "cafe_sales_cleaned.describe()"
   ]
  },
  {
   "cell_type": "code",
   "execution_count": 11,
   "id": "798aa8c3-389b-48e3-918d-be205d5e02bc",
   "metadata": {},
   "outputs": [
    {
     "data": {
      "text/plain": [
       "Item\n",
       "Juice       2131\n",
       "Coffee      1160\n",
       "Salad       1146\n",
       "Cake        1138\n",
       "Sandwich    1127\n",
       "Smoothie    1094\n",
       "Cookie      1090\n",
       "Tea         1088\n",
       "Name: count, dtype: int64"
      ]
     },
     "execution_count": 11,
     "metadata": {},
     "output_type": "execute_result"
    }
   ],
   "source": [
    "#Top selling items\n",
    "cafe_sales_cleaned['Item'].value_counts()"
   ]
  },
  {
   "cell_type": "code",
   "execution_count": 12,
   "id": "57bffb53-4f58-4967-ba27-2bcca335b33b",
   "metadata": {},
   "outputs": [
    {
     "data": {
      "text/plain": [
       "Location\n",
       "Takeaway    4998\n",
       "In-store    4976\n",
       "Name: count, dtype: int64"
      ]
     },
     "execution_count": 12,
     "metadata": {},
     "output_type": "execute_result"
    }
   ],
   "source": [
    "#most active store locations\n",
    "cafe_sales_cleaned['Location'].value_counts()"
   ]
  },
  {
   "cell_type": "code",
   "execution_count": 13,
   "id": "e4ed0b63-1844-43b8-918b-676cc360fdc9",
   "metadata": {},
   "outputs": [
    {
     "data": {
      "text/plain": [
       "Payment Method\n",
       "Credit Card       3342\n",
       "Digital Wallet    3326\n",
       "Cash              3306\n",
       "Name: count, dtype: int64"
      ]
     },
     "execution_count": 13,
     "metadata": {},
     "output_type": "execute_result"
    }
   ],
   "source": [
    "#most used payment method\n",
    "cafe_sales_cleaned['Payment Method'].value_counts()"
   ]
  },
  {
   "cell_type": "code",
   "execution_count": 20,
   "id": "d04246d8-35f4-43e5-9781-e233119a9279",
   "metadata": {},
   "outputs": [
    {
     "name": "stdout",
     "output_type": "stream",
     "text": [
      "Transaction Date\n",
      "2023-12-31    4360.5\n",
      "2023-07-24     371.5\n",
      "2023-06-16     367.5\n",
      "2023-01-05     363.5\n",
      "2023-11-07     360.0\n",
      "Name: Total Spent, dtype: float64\n"
     ]
    }
   ],
   "source": [
    "#daily sales\n",
    "daily_sales = cafe_sales_cleaned.groupby('Transaction Date')['Total Spent'].sum()\n",
    "print(daily_sales)\n",
    "\n",
    "#days with highest total sales\n",
    "top_daily_sales = daily_sales.sort_values(ascending=False)\n",
    "print(top_daily_sales.head(5))\n",
    "\n"
   ]
  },
  {
   "cell_type": "code",
   "execution_count": 22,
   "id": "213472c4-8031-4bbb-be5d-ed19b590d296",
   "metadata": {},
   "outputs": [],
   "source": [
    "#monthly sales trends\n",
    "cafe_sales_cleaned.loc[:, 'Month'] = cafe_sales_cleaned['Transaction Date'].dt.to_period('M')"
   ]
  },
  {
   "cell_type": "code",
   "execution_count": 24,
   "id": "0123b09d-a903-4d69-a80c-e9cfa8a2106b",
   "metadata": {},
   "outputs": [],
   "source": [
    "#total sales per month\n",
    "monthly_sales = cafe_sales_cleaned.groupby('Month')['Total Spent'].sum()"
   ]
  },
  {
   "cell_type": "code",
   "execution_count": 27,
   "id": "1802a7e3-da35-4276-a049-9fba6308e8d1",
   "metadata": {},
   "outputs": [
    {
     "name": "stdout",
     "output_type": "stream",
     "text": [
      "Month\n",
      "2023-12    11341.5\n",
      "2023-06     7353.0\n",
      "2023-10     7314.0\n",
      "2023-01     7254.0\n",
      "2023-03     7216.0\n",
      "Freq: M, Name: Total Spent, dtype: float64\n"
     ]
    }
   ],
   "source": [
    "top_monthly_sales = monthly_sales.sort_values(ascending=False)\n",
    "print(top_monthly_sales.head(5))"
   ]
  },
  {
   "cell_type": "code",
   "execution_count": 28,
   "id": "1000135c-799b-4872-a859-8bc61dcafa6d",
   "metadata": {},
   "outputs": [
    {
     "data": {
      "text/plain": [
       "8.92741126930018"
      ]
     },
     "execution_count": 28,
     "metadata": {},
     "output_type": "execute_result"
    }
   ],
   "source": [
    "#Average spending per transaction\n",
    "cafe_sales_cleaned['Total Spent'].mean()"
   ]
  },
  {
   "cell_type": "code",
   "execution_count": 33,
   "id": "ef0f28a4-7b96-47ab-a875-cff5e486ae58",
   "metadata": {},
   "outputs": [
    {
     "data": {
      "text/plain": [
       "Item\n",
       "Juice       6393.0\n",
       "Coffee      3536.0\n",
       "Salad       3469.0\n",
       "Cake        3468.0\n",
       "Sandwich    3429.0\n",
       "Smoothie    3336.0\n",
       "Tea         3307.0\n",
       "Cookie      3232.0\n",
       "Name: Quantity, dtype: float64"
      ]
     },
     "execution_count": 33,
     "metadata": {},
     "output_type": "execute_result"
    }
   ],
   "source": [
    "#top items by quantity sold\n",
    "\n",
    "#total quantity sold for each item\n",
    "items_sold = cafe_sales_cleaned.groupby('Item')['Quantity'].sum()\n",
    "# print(items_sold)\n",
    "top_items = items_sold.sort_values(ascending=False)\n",
    "top_items.head(10)"
   ]
  },
  {
   "cell_type": "code",
   "execution_count": 35,
   "id": "7d85bae6-489a-45e9-9627-d5368dc28707",
   "metadata": {},
   "outputs": [
    {
     "data": {
      "text/plain": [
       "Item\n",
       "Juice       18968.5\n",
       "Salad       17345.0\n",
       "Sandwich    13716.0\n",
       "Smoothie    13344.0\n",
       "Cake        10404.0\n",
       "Coffee       7072.0\n",
       "Tea          4960.5\n",
       "Cookie       3232.0\n",
       "Name: Total Spent, dtype: float64"
      ]
     },
     "execution_count": 35,
     "metadata": {},
     "output_type": "execute_result"
    }
   ],
   "source": [
    "#Top revenue generating items\n",
    "cafe_sales_cleaned.groupby('Item')['Total Spent'].sum().sort_values(ascending=False).head(10)"
   ]
  },
  {
   "cell_type": "code",
   "execution_count": 36,
   "id": "92f6a7c7-4e57-475b-97e6-239cfb7a4f98",
   "metadata": {},
   "outputs": [
    {
     "data": {
      "text/plain": [
       "Location\n",
       "Takeaway    44559.0\n",
       "In-store    44483.0\n",
       "Name: Total Spent, dtype: float64"
      ]
     },
     "execution_count": 36,
     "metadata": {},
     "output_type": "execute_result"
    }
   ],
   "source": [
    "#revenue by location\n",
    "cafe_sales_cleaned.groupby('Location')['Total Spent'].sum().sort_values(ascending=False)\n"
   ]
  },
  {
   "cell_type": "code",
   "execution_count": 40,
   "id": "c9ea6509-599f-4df0-a60a-e04e2f1e3d5d",
   "metadata": {},
   "outputs": [
    {
     "data": {
      "text/plain": [
       "Item\n",
       "Salad       5.000000\n",
       "Sandwich    4.000000\n",
       "Smoothie    4.000000\n",
       "Cake        3.000000\n",
       "Juice       2.967152\n",
       "Name: Price Per Unit, dtype: float64"
      ]
     },
     "execution_count": 40,
     "metadata": {},
     "output_type": "execute_result"
    }
   ],
   "source": [
    "#average price per item\n",
    "cafe_sales_cleaned.groupby('Item')['Price Per Unit'].mean().sort_values(ascending=False).head()"
   ]
  }
 ],
 "metadata": {
  "kernelspec": {
   "display_name": "Python [conda env:base] *",
   "language": "python",
   "name": "conda-base-py"
  },
  "language_info": {
   "codemirror_mode": {
    "name": "ipython",
    "version": 3
   },
   "file_extension": ".py",
   "mimetype": "text/x-python",
   "name": "python",
   "nbconvert_exporter": "python",
   "pygments_lexer": "ipython3",
   "version": "3.12.7"
  }
 },
 "nbformat": 4,
 "nbformat_minor": 5
}
